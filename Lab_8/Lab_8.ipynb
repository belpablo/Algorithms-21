{
 "cells": [
  {
   "cell_type": "markdown",
   "id": "1edd919f",
   "metadata": {},
   "source": [
    "### Task 8:\n",
    "\n",
    "Choose two algorithms from the mentioned sectiones of the book: \"Introduction to Algorithms\", Thomas H., Cormen Charles E., Leiserson Ronald L. et al. Analyse the chosen algorithms in terms of time and space complexity, design technique used, etc. Implement the algorithms and produce several experiments. Analyse the results.\n",
    "\n",
    "The Knuth-Morris-Pratt algorithm was used as the first algorithm"
   ]
  },
  {
   "cell_type": "code",
   "execution_count": 8,
   "id": "ce07eb8e",
   "metadata": {},
   "outputs": [
    {
     "name": "stdout",
     "output_type": "stream",
     "text": [
      "35 6\n",
      ">>> [0, 0, 0, 1, 2, 0]\n",
      "[9, 16, 26]\n",
      "abcabd\n",
      "abcabd\n",
      "abcabd\n"
     ]
    }
   ],
   "source": [
    "import numpy as np\n",
    "import matplotlib.pyplot as plt\n",
    "from time import perf_counter as tpc\n",
    "\n",
    "def func_prefix(s: str) -> list:\n",
    "    \n",
    "    \"\"\"\n",
    "    Fills Pi-function array\n",
    "    :param str: lookip string\n",
    "    :return: result\n",
    "    \"\"\"\n",
    "    \n",
    "    l = len(s)\n",
    "    P = [0]*l\n",
    "    i, j = 0, 1\n",
    "    while j < l :\n",
    "        if s[i] == s[j]:\n",
    "            P[j] = i + 1\n",
    "            i += 1\n",
    "            j += 1\n",
    "        # s[i] != s[j]:\n",
    "        elif i:         # i > 0\n",
    "            i = P[i - 1]\n",
    "        else:           # i == 0\n",
    "            P[j] = 0\n",
    "            j += 1\n",
    "    return P\n",
    "\n",
    "def kmp(text: str, sub: str) -> list:\n",
    "    sub_len = len(sub)\n",
    "    text_len = len(text)\n",
    "    print(text_len, sub_len)\n",
    "    if not text_len or sub_len > text_len:\n",
    "        return []\n",
    "    P = func_prefix(sub)\n",
    "    print(\">>>\", P)\n",
    "    entries = []\n",
    "    i = j = 0\n",
    "    while i < text_len and j < sub_len:\n",
    "        if text[i] == sub[j]:\n",
    "            if j == sub_len - 1:\n",
    "                entries.append(i - sub_len + 1)\n",
    "                j = 0\n",
    "            else:\n",
    "                j += 1\n",
    "            i += 1\n",
    "        # text[i] 1= sub[j]\n",
    "        elif j:     # j > 0\n",
    "            j = P[j-1]\n",
    "        else:\n",
    "            i += 1\n",
    "    return entries\n",
    "\n",
    "if __name__ == '__main__':\n",
    "    s = \"abcabeabcabcabdrabcabdtuyeabcabdwrt\"\n",
    "    sub = \"abcabd\"\n",
    "    P = kmp(s, sub)\n",
    "    print(P)\n",
    "    for i in P:\n",
    "        print(s[i:i + len(sub)])"
   ]
  },
  {
   "cell_type": "code",
   "execution_count": null,
   "id": "e4fc4329",
   "metadata": {},
   "outputs": [],
   "source": []
  }
 ],
 "metadata": {
  "kernelspec": {
   "display_name": "Python 3",
   "language": "python",
   "name": "python3"
  },
  "language_info": {
   "codemirror_mode": {
    "name": "ipython",
    "version": 3
   },
   "file_extension": ".py",
   "mimetype": "text/x-python",
   "name": "python",
   "nbconvert_exporter": "python",
   "pygments_lexer": "ipython3",
   "version": "3.8.8"
  }
 },
 "nbformat": 4,
 "nbformat_minor": 5
}
